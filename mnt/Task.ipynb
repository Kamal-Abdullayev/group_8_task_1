{
 "cells": [
  {
   "cell_type": "code",
   "execution_count": 5,
   "id": "cb4b92fd-5d4a-486e-a2d7-f3d518d0e004",
   "metadata": {},
   "outputs": [
    {
     "name": "stdout",
     "output_type": "stream",
     "text": [
      "Utilization per Taxi:\n",
      "+--------------------+----------+---------------+-------------------+\n",
      "|           medallion|total_time|total_idle_time|        utilization|\n",
      "+--------------------+----------+---------------+-------------------+\n",
      "|000318C2E3E638158...|     13800|          17400| 0.4423076923076923|\n",
      "|002E3B405B6ABEA23...|      8400|          16140| 0.3422982885085575|\n",
      "|0030AD2648D81EE87...|      1980|            720| 0.7333333333333333|\n",
      "|0036961468659D0BF...|     10980|          19740|        0.357421875|\n",
      "|0038EF45118925A51...|     10620|          15120| 0.4125874125874126|\n",
      "|0053334C798EC6C8E...|      7920|          22440| 0.2608695652173913|\n",
      "|005DED7D6E6C45441...|     11460|          11760| 0.4935400516795866|\n",
      "|005F00B38F46E2100...|     18600|          42180| 0.3060217176702863|\n",
      "|00790C7BAD30B7A9E...|     11580|          25320|0.31382113821138213|\n",
      "|0094A03FFE6BAFBE0...|     10200|           5400| 0.6538461538461539|\n",
      "|009D3CCA83486B03F...|     19620|          40920| 0.3240832507433102|\n",
      "|009E68CADCB1BCF73...|       780|           NULL|               NULL|\n",
      "|00BD5D1AD3A96C997...|     10200|          12540|0.44854881266490765|\n",
      "|00E0904FC59DA2C36...|       780|           NULL|               NULL|\n",
      "|00FB3D49C3DE5E002...|     14040|          14580|0.49056603773584906|\n",
      "|012B65864B3BE97D6...|      4620|           6360| 0.4207650273224044|\n",
      "|012F172C0351A4767...|     16200|          40680| 0.2848101265822785|\n",
      "|01389E9CF7758ECAC...|      2880|           5460|0.34532374100719426|\n",
      "|019AFB33C3153481B...|      4800|           9840|0.32786885245901637|\n",
      "|01BD10395EF30144C...|      4320|           5940|0.42105263157894735|\n",
      "+--------------------+----------+---------------+-------------------+\n",
      "only showing top 20 rows\n",
      "\n"
     ]
    }
   ],
   "source": [
    "from pyspark.sql import SparkSession\n",
    "from pyspark.sql.functions import col, udf, unix_timestamp, lag, sum as spark_sum, avg, count\n",
    "from pyspark.sql.window import Window\n",
    "from shapely.geometry import Point, shape\n",
    "import json\n",
    "\n",
    "# Initialize Spark Session\n",
    "spark = SparkSession.builder.appName(\"NYC Taxi Utilization\").getOrCreate()\n",
    "\n",
    "# Load Taxi Ride Dataset\n",
    "taxi_df = spark.read.csv(\"input/Sample NYC Data.csv\", header=True, inferSchema=True)\n",
    "\n",
    "# Load GeoJSON Data\n",
    "with open(\"input/nyc-boroughs.geojson\") as f:\n",
    "    geojson = json.load(f)\n",
    "\n",
    "# Create Shapely Polygons from GeoJSON Data\n",
    "boroughs = []\n",
    "for feature in geojson['features']:\n",
    "    polygon = shape(feature['geometry'])\n",
    "    borough = feature['properties']['borough']\n",
    "    boroughs.append((borough, polygon))\n",
    "\n",
    "# Sort boroughs by size (descending)\n",
    "boroughs = sorted(boroughs, key=lambda x: x[1].area, reverse=True)\n",
    "\n",
    "# UDF to Map Coordinates to Borough Name\n",
    "def find_borough(lon, lat):\n",
    "    point = Point(lon, lat)\n",
    "    for borough, polygon in boroughs:\n",
    "        if polygon.contains(point):\n",
    "            return borough\n",
    "    return \"Unknown\"\n",
    "\n",
    "find_borough_udf = udf(find_borough)\n",
    "\n",
    "# Enrich Dataset with Borough Names\n",
    "taxi_df = taxi_df.withColumn(\"pickup_borough\", find_borough_udf(col(\"pickup_longitude\"), col(\"pickup_latitude\")))\n",
    "taxi_df = taxi_df.withColumn(\"dropoff_borough\", find_borough_udf(col(\"dropoff_longitude\"), col(\"dropoff_latitude\")))\n",
    "\n",
    "# Compute Trip Duration\n",
    "taxi_df = taxi_df.withColumn(\"pickup_ts\", unix_timestamp(\"pickup_datetime\", \"dd-MM-yy HH:mm\"))\n",
    "taxi_df = taxi_df.withColumn(\"dropoff_ts\", unix_timestamp(\"dropoff_datetime\", \"dd-MM-yy HH:mm\"))\n",
    "taxi_df = taxi_df.withColumn(\"duration\", col(\"dropoff_ts\") - col(\"pickup_ts\"))\n",
    "\n",
    "# Filter Outliers\n",
    "taxi_df = taxi_df.filter((col(\"duration\") > 0) & (col(\"duration\") <= 4 * 3600))\n",
    "\n",
    "# Window Specification for Idle Time Calculation\n",
    "window_spec = Window.partitionBy(\"medallion\").orderBy(\"pickup_ts\")\n",
    "\n",
    "# Lag Function to Get Previous Dropoff Time\n",
    "taxi_df = taxi_df.withColumn(\"prev_dropoff_ts\", lag(\"dropoff_ts\").over(window_spec))\n",
    "\n",
    "# Calculate Idle Time\n",
    "taxi_df = taxi_df.withColumn(\"idle_time\", (col(\"pickup_ts\") - col(\"prev_dropoff_ts\")).cast(\"long\"))\n",
    "\n",
    "# Filter Out Sessions Where Idle Time is Greater than 4 Hours\n",
    "taxi_df = taxi_df.filter((col(\"idle_time\") >= 0) & (col(\"idle_time\") <= 4 * 3600) | col(\"idle_time\").isNull())\n",
    "\n",
    "# Group by Taxi and Compute Utilization\n",
    "utilization_df = taxi_df.groupBy(\"medallion\").agg(\n",
    "    spark_sum(\"duration\").alias(\"total_time\"),\n",
    "    spark_sum(\"idle_time\").alias(\"total_idle_time\")\n",
    ")\n",
    "\n",
    "utilization_df = utilization_df.withColumn(\"utilization\", col(\"total_time\") / (col(\"total_time\") + col(\"total_idle_time\")))\n",
    "\n",
    "print(\"Utilization per Taxi:\")\n",
    "utilization_df.show()"
   ]
  },
  {
   "cell_type": "code",
   "execution_count": 2,
   "id": "7247ac7e-cf7f-45ec-9e45-90e7fc0e8d9d",
   "metadata": {},
   "outputs": [
    {
     "name": "stdout",
     "output_type": "stream",
     "text": [
      "+---------------+------------------+\n",
      "|dropoff_borough|     avg_fare_time|\n",
      "+---------------+------------------+\n",
      "|         Queens|2040.1597869507323|\n",
      "|        Unknown|1594.4157303370787|\n",
      "|       Brooklyn| 1910.373382624769|\n",
      "|  Staten Island|            1050.0|\n",
      "|      Manhattan|1116.6821560192775|\n",
      "|          Bronx|2201.6326530612246|\n",
      "+---------------+------------------+\n",
      "\n"
     ]
    }
   ],
   "source": [
    "# Calculate Average Time to Find Next Fare per Destination Borough\n",
    "avg_fare_time_df = taxi_df.filter(col(\"idle_time\").isNotNull()).groupBy(\"dropoff_borough\").agg(avg(\"idle_time\").alias(\"avg_fare_time\"))\n",
    "\n",
    "avg_fare_time_df.show()"
   ]
  },
  {
   "cell_type": "code",
   "execution_count": 3,
   "id": "6c20322e-8878-4028-ac67-69907086b773",
   "metadata": {},
   "outputs": [
    {
     "name": "stdout",
     "output_type": "stream",
     "text": [
      "+--------------+-----------------------+\n",
      "|pickup_borough|same_borough_trip_count|\n",
      "+--------------+-----------------------+\n",
      "|        Queens|                   1236|\n",
      "|       Unknown|                   1462|\n",
      "|      Brooklyn|                    971|\n",
      "|     Manhattan|                  81847|\n",
      "|         Bronx|                     44|\n",
      "| Staten Island|                      1|\n",
      "+--------------+-----------------------+\n",
      "\n"
     ]
    }
   ],
   "source": [
    "# Count Trips That Started and Ended Within the Same Borough\n",
    "same_borough_trips_df = taxi_df.filter(col(\"pickup_borough\") == col(\"dropoff_borough\"))\n",
    "trip_counts_df = same_borough_trips_df.groupBy(\"pickup_borough\").agg(count(\"medallion\").alias(\"same_borough_trip_count\"))\n",
    "\n",
    "trip_counts_df.show()"
   ]
  },
  {
   "cell_type": "code",
   "execution_count": 6,
   "id": "552fd33b-e3d4-4ee5-a324-21996d6225aa",
   "metadata": {},
   "outputs": [
    {
     "name": "stdout",
     "output_type": "stream",
     "text": [
      "+--------------+----------------------------+\n",
      "|pickup_borough|different_borough_trip_count|\n",
      "+--------------+----------------------------+\n",
      "|        Queens|                        4019|\n",
      "|       Unknown|                         122|\n",
      "|      Brooklyn|                         791|\n",
      "| Staten Island|                           1|\n",
      "|     Manhattan|                        6334|\n",
      "|         Bronx|                          27|\n",
      "+--------------+----------------------------+\n",
      "\n"
     ]
    }
   ],
   "source": [
    "# Count Trips That Started in One Borough and Ended in Another\n",
    "different_borough_trips_df = taxi_df.filter(col(\"pickup_borough\") != col(\"dropoff_borough\"))\n",
    "different_trip_counts_df = different_borough_trips_df.groupBy(\"pickup_borough\").agg(count(\"medallion\").alias(\"different_borough_trip_count\"))\n",
    "\n",
    "different_trip_counts_df.show()"
   ]
  }
 ],
 "metadata": {
  "kernelspec": {
   "display_name": "Python 3 (ipykernel)",
   "language": "python",
   "name": "python3"
  },
  "language_info": {
   "codemirror_mode": {
    "name": "ipython",
    "version": 3
   },
   "file_extension": ".py",
   "mimetype": "text/x-python",
   "name": "python",
   "nbconvert_exporter": "python",
   "pygments_lexer": "ipython3",
   "version": "3.11.10"
  }
 },
 "nbformat": 4,
 "nbformat_minor": 5
}
